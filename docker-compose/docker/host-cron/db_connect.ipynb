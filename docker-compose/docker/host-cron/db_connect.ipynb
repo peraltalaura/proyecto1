{
 "cells": [
  {
   "cell_type": "code",
   "execution_count": 1,
   "id": "1fcc337d-eb01-40f5-bf5e-3aafe81470fa",
   "metadata": {},
   "outputs": [],
   "source": [
    "#Datu basera konexioa egin eta irudia ez duten erabiltzaileen datuak lortu"
   ]
  },
  {
   "cell_type": "code",
   "execution_count": 2,
   "id": "e9b9ac3d-ccd1-47ff-9a42-9a59dc82b73d",
   "metadata": {},
   "outputs": [
    {
     "name": "stdout",
     "output_type": "stream",
     "text": [
      "('peralta.laura@uni.eus',)\n"
     ]
    }
   ],
   "source": [
    "import pymysql\n",
    "\n",
    "mydb = pymysql.connect(\n",
    "    host=\"mysql\",\n",
    "    user=\"root\",\n",
    "    password=\"admin\",\n",
    "    database=\"bdweb\"\n",
    ")\n",
    "\n",
    "mycursor = mydb.cursor()\n",
    "\n",
    "mycursor.execute(\"SELECT username FROM users where irudia = ''\")\n",
    "\n",
    "myresult = mycursor.fetchall()"
   ]
  },
  {
   "cell_type": "code",
   "execution_count": 3,
   "id": "546e3dd4-a733-4c6b-9b7f-f481c5a3e52d",
   "metadata": {},
   "outputs": [],
   "source": [
    "#Maila bidali lortutako erabiltzaileei"
   ]
  },
  {
   "cell_type": "code",
   "execution_count": 4,
   "id": "c8a87873-6858-41f9-b540-4c1224d7bb5e",
   "metadata": {},
   "outputs": [
    {
     "data": {
      "text/plain": [
       "(221, b'Goodbye')"
      ]
     },
     "execution_count": 4,
     "metadata": {},
     "output_type": "execute_result"
    }
   ],
   "source": [
    "import smtplib\n",
    "\n",
    "from email.message import EmailMessage\n",
    "\n",
    "s = smtplib.SMTP('stmp',25)\n",
    "\n",
    "for x in myresult:\n",
    "    msg = EmailMessage()\n",
    "    msg.set_content(\"Irudia derrigorrezkoa da, mesedez igo ahal duzunean.\")\n",
    "    msg['Subject'] = 'Irudia falta da'\n",
    "    msg['From'] = \"admin@bdweb\"\n",
    "    msg['To'] = x\n",
    "    s.send_message(msg)\n",
    "s.quit()"
   ]
  }
 ],
 "metadata": {
  "kernelspec": {
   "display_name": "Python 3.10.8 64-bit (microsoft store)",
   "language": "python",
   "name": "python3"
  },
  "language_info": {
   "codemirror_mode": {
    "name": "ipython",
    "version": 3
   },
   "file_extension": ".py",
   "mimetype": "text/x-python",
   "name": "python",
   "nbconvert_exporter": "python",
   "pygments_lexer": "ipython3",
   "version": "3.10.8"
  },
  "vscode": {
   "interpreter": {
    "hash": "d64ea055b319a1b7bff3525cb6d1ac1d904acb1aa1894d6751e03ecd85db182a"
   }
  }
 },
 "nbformat": 4,
 "nbformat_minor": 5
}
